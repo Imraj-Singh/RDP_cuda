{
 "cells": [
  {
   "cell_type": "code",
   "execution_count": null,
   "metadata": {},
   "outputs": [],
   "source": [
    "import torch\n",
    "\n",
    "\n",
    "def rdpz_rolled_components(x):\n",
    "    neighbours = [1,-1]\n",
    "    x_neighbours = x.clone()[None].repeat(2,1,1,1)\n",
    "    for i in range(2):\n",
    "        x_neighbours[[i],:] = torch.roll(x, shifts=(neighbours[i]), dims=(0))\n",
    "    x_neighbours[0,:] = x[1]\n",
    "    x_neighbours[-1,:] = x[-2]\n",
    "    return x_neighbours\n",
    "\n",
    "def get_rdpz_grad(x):\n",
    "    x_neighbours = rdpz_rolled_components(x)\n",
    "    x = x[None].repeat(2,1,1,1)\n",
    "    numerator = (x - x_neighbours)*(2 * torch.abs(x-x_neighbours) + x + 3 * x_neighbours)\n",
    "    denominator = (x + x_neighbours + 2 * torch.abs(x - x_neighbours))**2 + 1e-9\n",
    "    gradient = - (numerator/denominator)\n",
    "    gradient = gradient.sum(dim=0)\n",
    "    return gradient\n",
    "\n",
    "def get_rdp_value(x):\n",
    "    rdp = torch.zeros_like(x)\n",
    "    # we want relected in axial\n",
    "    x_neighbours = torch.nn.functional.pad(x[None], (1,1,1,1,1,1), mode='reflect')[0]\n",
    "    for i in [0,1,2]:\n",
    "        for j in [0,1,2]:\n",
    "            for k in [0,1,2]:\n",
    "                i_end = x_neighbours.shape[0] - (2 - i)\n",
    "                j_end = x_neighbours.shape[1] - (2 - j)\n",
    "                k_end = x_neighbours.shape[2] - (2 - k)\n",
    "                numerator = (x - x_neighbours[i:i_end,j:j_end,k:k_end])**2\n",
    "                denominator = (x + x_neighbours[i:i_end,j:j_end,k:k_end] + \\\n",
    "                                2 * torch.abs(x - x_neighbours[i:i_end,j:j_end,k:k_end]))\n",
    "                rdp -= (numerator/torch.clamp(denominator, 1e-9))\n",
    "    return rdp.sum()\n",
    "\n",
    "torch.random.manual_seed(1337)\n",
    "x = torch.zeros(5,5,5).cuda()\n",
    "x[1:4,1:4,1:4] = 10000.\n",
    "rdp_val = get_rdp_value(x)\n",
    "rdp_grad = get_rdpz_grad(x)\n",
    "print(rdp_val)\n",
    "print(x[3])"
   ]
  },
  {
   "cell_type": "code",
   "execution_count": null,
   "metadata": {},
   "outputs": [],
   "source": [
    "import torch\n",
    "import rdp\n",
    "\n",
    "z = rdp.compute_value(x.cuda(), torch.ones(3,3,3).cuda())\n",
    "print(z)"
   ]
  }
 ],
 "metadata": {
  "kernelspec": {
   "display_name": "base",
   "language": "python",
   "name": "python3"
  },
  "language_info": {
   "codemirror_mode": {
    "name": "ipython",
    "version": 3
   },
   "file_extension": ".py",
   "mimetype": "text/x-python",
   "name": "python",
   "nbconvert_exporter": "python",
   "pygments_lexer": "ipython3",
   "version": "3.10.13"
  }
 },
 "nbformat": 4,
 "nbformat_minor": 2
}
